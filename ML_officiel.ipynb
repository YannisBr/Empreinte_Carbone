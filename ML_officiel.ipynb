{
  "nbformat": 4,
  "nbformat_minor": 0,
  "metadata": {
    "colab": {
      "provenance": [],
      "authorship_tag": "ABX9TyOuHs7TPqlnLXjRBf1gfEH8",
      "include_colab_link": true
    },
    "kernelspec": {
      "name": "python3",
      "display_name": "Python 3"
    },
    "language_info": {
      "name": "python"
    }
  },
  "cells": [
    {
      "cell_type": "markdown",
      "metadata": {
        "id": "view-in-github",
        "colab_type": "text"
      },
      "source": [
        "<a href=\"https://colab.research.google.com/github/YannisBr/Empreinte_Carbone/blob/main/ML_officiel.ipynb\" target=\"_parent\"><img src=\"https://colab.research.google.com/assets/colab-badge.svg\" alt=\"Open In Colab\"/></a>"
      ]
    },
    {
      "cell_type": "markdown",
      "source": [
        "FAIRE CA :\n",
        "\n",
        "Ensemble d'entraînement : utilisé pour entraîner le modèle.\n",
        "Ensemble de validation : utilisé pour évaluer le modèle pendant l'entraînement et ajuster les hyperparamètres.\n",
        "Ensemble de test : utilisé pour tester la performance finale du modèle après l'entraînement.\n",
        "\n",
        "Reflechir sur validation croisée"
      ],
      "metadata": {
        "id": "jzSJubP037Cb"
      }
    },
    {
      "cell_type": "markdown",
      "source": [
        "# **Prétraitement des données**"
      ],
      "metadata": {
        "id": "AnkEAJSOQ3lX"
      }
    },
    {
      "cell_type": "code",
      "execution_count": 126,
      "metadata": {
        "colab": {
          "base_uri": "https://localhost:8080/",
          "height": 1000
        },
        "id": "_3ofdDs3BVAR",
        "outputId": "6ab4c4ec-c4f3-438f-80a7-ef2f28d43098"
      },
      "outputs": [
        {
          "output_type": "stream",
          "name": "stdout",
          "text": [
            "Requirement already satisfied: surprise in /usr/local/lib/python3.10/dist-packages (0.1)\n",
            "Requirement already satisfied: scikit-surprise in /usr/local/lib/python3.10/dist-packages (from surprise) (1.1.4)\n",
            "Requirement already satisfied: joblib>=1.2.0 in /usr/local/lib/python3.10/dist-packages (from scikit-surprise->surprise) (1.4.2)\n",
            "Requirement already satisfied: numpy>=1.19.5 in /usr/local/lib/python3.10/dist-packages (from scikit-surprise->surprise) (1.26.4)\n",
            "Requirement already satisfied: scipy>=1.6.0 in /usr/local/lib/python3.10/dist-packages (from scikit-surprise->surprise) (1.13.1)\n"
          ]
        },
        {
          "output_type": "display_data",
          "data": {
            "text/plain": [
              "<IPython.core.display.HTML object>"
            ],
            "text/html": [
              "\n",
              "     <input type=\"file\" id=\"files-e2321f1d-7aae-4711-bee0-8df4c27d7b82\" name=\"files[]\" multiple disabled\n",
              "        style=\"border:none\" />\n",
              "     <output id=\"result-e2321f1d-7aae-4711-bee0-8df4c27d7b82\">\n",
              "      Upload widget is only available when the cell has been executed in the\n",
              "      current browser session. Please rerun this cell to enable.\n",
              "      </output>\n",
              "      <script>// Copyright 2017 Google LLC\n",
              "//\n",
              "// Licensed under the Apache License, Version 2.0 (the \"License\");\n",
              "// you may not use this file except in compliance with the License.\n",
              "// You may obtain a copy of the License at\n",
              "//\n",
              "//      http://www.apache.org/licenses/LICENSE-2.0\n",
              "//\n",
              "// Unless required by applicable law or agreed to in writing, software\n",
              "// distributed under the License is distributed on an \"AS IS\" BASIS,\n",
              "// WITHOUT WARRANTIES OR CONDITIONS OF ANY KIND, either express or implied.\n",
              "// See the License for the specific language governing permissions and\n",
              "// limitations under the License.\n",
              "\n",
              "/**\n",
              " * @fileoverview Helpers for google.colab Python module.\n",
              " */\n",
              "(function(scope) {\n",
              "function span(text, styleAttributes = {}) {\n",
              "  const element = document.createElement('span');\n",
              "  element.textContent = text;\n",
              "  for (const key of Object.keys(styleAttributes)) {\n",
              "    element.style[key] = styleAttributes[key];\n",
              "  }\n",
              "  return element;\n",
              "}\n",
              "\n",
              "// Max number of bytes which will be uploaded at a time.\n",
              "const MAX_PAYLOAD_SIZE = 100 * 1024;\n",
              "\n",
              "function _uploadFiles(inputId, outputId) {\n",
              "  const steps = uploadFilesStep(inputId, outputId);\n",
              "  const outputElement = document.getElementById(outputId);\n",
              "  // Cache steps on the outputElement to make it available for the next call\n",
              "  // to uploadFilesContinue from Python.\n",
              "  outputElement.steps = steps;\n",
              "\n",
              "  return _uploadFilesContinue(outputId);\n",
              "}\n",
              "\n",
              "// This is roughly an async generator (not supported in the browser yet),\n",
              "// where there are multiple asynchronous steps and the Python side is going\n",
              "// to poll for completion of each step.\n",
              "// This uses a Promise to block the python side on completion of each step,\n",
              "// then passes the result of the previous step as the input to the next step.\n",
              "function _uploadFilesContinue(outputId) {\n",
              "  const outputElement = document.getElementById(outputId);\n",
              "  const steps = outputElement.steps;\n",
              "\n",
              "  const next = steps.next(outputElement.lastPromiseValue);\n",
              "  return Promise.resolve(next.value.promise).then((value) => {\n",
              "    // Cache the last promise value to make it available to the next\n",
              "    // step of the generator.\n",
              "    outputElement.lastPromiseValue = value;\n",
              "    return next.value.response;\n",
              "  });\n",
              "}\n",
              "\n",
              "/**\n",
              " * Generator function which is called between each async step of the upload\n",
              " * process.\n",
              " * @param {string} inputId Element ID of the input file picker element.\n",
              " * @param {string} outputId Element ID of the output display.\n",
              " * @return {!Iterable<!Object>} Iterable of next steps.\n",
              " */\n",
              "function* uploadFilesStep(inputId, outputId) {\n",
              "  const inputElement = document.getElementById(inputId);\n",
              "  inputElement.disabled = false;\n",
              "\n",
              "  const outputElement = document.getElementById(outputId);\n",
              "  outputElement.innerHTML = '';\n",
              "\n",
              "  const pickedPromise = new Promise((resolve) => {\n",
              "    inputElement.addEventListener('change', (e) => {\n",
              "      resolve(e.target.files);\n",
              "    });\n",
              "  });\n",
              "\n",
              "  const cancel = document.createElement('button');\n",
              "  inputElement.parentElement.appendChild(cancel);\n",
              "  cancel.textContent = 'Cancel upload';\n",
              "  const cancelPromise = new Promise((resolve) => {\n",
              "    cancel.onclick = () => {\n",
              "      resolve(null);\n",
              "    };\n",
              "  });\n",
              "\n",
              "  // Wait for the user to pick the files.\n",
              "  const files = yield {\n",
              "    promise: Promise.race([pickedPromise, cancelPromise]),\n",
              "    response: {\n",
              "      action: 'starting',\n",
              "    }\n",
              "  };\n",
              "\n",
              "  cancel.remove();\n",
              "\n",
              "  // Disable the input element since further picks are not allowed.\n",
              "  inputElement.disabled = true;\n",
              "\n",
              "  if (!files) {\n",
              "    return {\n",
              "      response: {\n",
              "        action: 'complete',\n",
              "      }\n",
              "    };\n",
              "  }\n",
              "\n",
              "  for (const file of files) {\n",
              "    const li = document.createElement('li');\n",
              "    li.append(span(file.name, {fontWeight: 'bold'}));\n",
              "    li.append(span(\n",
              "        `(${file.type || 'n/a'}) - ${file.size} bytes, ` +\n",
              "        `last modified: ${\n",
              "            file.lastModifiedDate ? file.lastModifiedDate.toLocaleDateString() :\n",
              "                                    'n/a'} - `));\n",
              "    const percent = span('0% done');\n",
              "    li.appendChild(percent);\n",
              "\n",
              "    outputElement.appendChild(li);\n",
              "\n",
              "    const fileDataPromise = new Promise((resolve) => {\n",
              "      const reader = new FileReader();\n",
              "      reader.onload = (e) => {\n",
              "        resolve(e.target.result);\n",
              "      };\n",
              "      reader.readAsArrayBuffer(file);\n",
              "    });\n",
              "    // Wait for the data to be ready.\n",
              "    let fileData = yield {\n",
              "      promise: fileDataPromise,\n",
              "      response: {\n",
              "        action: 'continue',\n",
              "      }\n",
              "    };\n",
              "\n",
              "    // Use a chunked sending to avoid message size limits. See b/62115660.\n",
              "    let position = 0;\n",
              "    do {\n",
              "      const length = Math.min(fileData.byteLength - position, MAX_PAYLOAD_SIZE);\n",
              "      const chunk = new Uint8Array(fileData, position, length);\n",
              "      position += length;\n",
              "\n",
              "      const base64 = btoa(String.fromCharCode.apply(null, chunk));\n",
              "      yield {\n",
              "        response: {\n",
              "          action: 'append',\n",
              "          file: file.name,\n",
              "          data: base64,\n",
              "        },\n",
              "      };\n",
              "\n",
              "      let percentDone = fileData.byteLength === 0 ?\n",
              "          100 :\n",
              "          Math.round((position / fileData.byteLength) * 100);\n",
              "      percent.textContent = `${percentDone}% done`;\n",
              "\n",
              "    } while (position < fileData.byteLength);\n",
              "  }\n",
              "\n",
              "  // All done.\n",
              "  yield {\n",
              "    response: {\n",
              "      action: 'complete',\n",
              "    }\n",
              "  };\n",
              "}\n",
              "\n",
              "scope.google = scope.google || {};\n",
              "scope.google.colab = scope.google.colab || {};\n",
              "scope.google.colab._files = {\n",
              "  _uploadFiles,\n",
              "  _uploadFilesContinue,\n",
              "};\n",
              "})(self);\n",
              "</script> "
            ]
          },
          "metadata": {}
        },
        {
          "output_type": "stream",
          "name": "stdout",
          "text": [
            "Dimensions de ratings_train: (610, 4980)\n",
            "Aperçu de ratings_train:\n",
            " [[ 4. nan nan ... nan nan nan]\n",
            " [nan nan nan ... nan nan nan]\n",
            " [nan nan nan ... nan nan nan]\n",
            " ...\n",
            " [nan  2. nan ... nan nan nan]\n",
            " [ 3. nan nan ... nan nan nan]\n",
            " [nan nan nan ... nan nan nan]]\n",
            "\n",
            "Dimensions de ratings_test: (610, 4980)\n",
            "Aperçu de ratings_test:\n",
            " [[nan nan  4. ... nan nan nan]\n",
            " [nan nan nan ... nan nan nan]\n",
            " [nan nan nan ... nan nan nan]\n",
            " ...\n",
            " [nan nan  2. ... nan nan nan]\n",
            " [nan nan nan ... nan nan nan]\n",
            " [ 5. nan nan ... nan nan nan]]\n",
            "\n",
            "Aperçu de name_genres:\n",
            "[['Toy Story (1995)' 'Adventure|Animation|Children|Comedy|Fantasy']\n",
            " ['Jumanji (1995)' 'Adventure|Children|Fantasy']\n",
            " ['Grumpier Old Men (1995)' 'Comedy|Romance']\n",
            " ['Waiting to Exhale (1995)' 'Comedy|Drama|Romance']\n",
            " ['Father of the Bride Part II (1995)' 'Comedy']\n",
            " ['Heat (1995)' 'Action|Crime|Thriller']\n",
            " ['Sabrina (1995)' 'Comedy|Romance']\n",
            " ['Tom and Huck (1995)' 'Adventure|Children']\n",
            " ['Sudden Death (1995)' 'Action']\n",
            " ['GoldenEye (1995)' 'Action|Adventure|Thriller']]\n",
            "\n",
            "Aperçu de list_index_wanted:\n",
            "[[  0  42]\n",
            " [  0 237]\n",
            " [  0 250]\n",
            " [  0 261]\n",
            " [  0 265]\n",
            " [  0 352]\n",
            " [  0 372]\n",
            " [  0 387]\n",
            " [  0 393]\n",
            " [  0 421]]\n",
            "Il y a 610 utilisateurs uniques et 4980 films uniques; la matrice est donc de taille 610 par 4980.\n",
            "Aperçu de data_matrix (sans NaN):\n",
            " [[4. 0. 0. ... 0. 0. 0.]\n",
            " [0. 0. 0. ... 0. 0. 0.]\n",
            " [0. 0. 0. ... 0. 0. 0.]\n",
            " ...\n",
            " [0. 2. 0. ... 0. 0. 0.]\n",
            " [3. 0. 0. ... 0. 0. 0.]\n",
            " [0. 0. 0. ... 0. 0. 0.]]\n",
            "Dimensions : (610, 4980)\n"
          ]
        }
      ],
      "source": [
        "import pandas as pd\n",
        "import numpy as np\n",
        "import matplotlib.pyplot as plt\n",
        "from IPython.display import Image\n",
        "\n",
        "# Installer la bibliothèque surprise si ce n'est pas encore fait\n",
        "!pip install surprise\n",
        "\n",
        "# Importer les modules nécessaires\n",
        "from surprise import Reader, Dataset\n",
        "from surprise import KNNBasic\n",
        "from surprise.model_selection import cross_validate\n",
        "\n",
        "\n",
        "\n",
        "from google.colab import files\n",
        "uploaded = files.upload()\n",
        "\n",
        "# Chargement des données\n",
        "ratings_train = np.load('ratings_train.npy')\n",
        "ratings_test = np.load('ratings_test.npy')\n",
        "name_genres = np.load('namesngenre.npy', allow_pickle=True)\n",
        "list_index_wanted = np.load('list_index_wanted.npy', allow_pickle=True)\n",
        "\n",
        "# Visualisation des données\n",
        "# 1. Visualisation de ratings_train\n",
        "print(\"Dimensions de ratings_train:\", ratings_train.shape)\n",
        "print(\"Aperçu de ratings_train:\\n\", ratings_train)\n",
        "\n",
        "# 2. Visualisation de ratings_test\n",
        "print(\"\\nDimensions de ratings_test:\", ratings_test.shape)\n",
        "print(\"Aperçu de ratings_test:\\n\", ratings_test)\n",
        "\n",
        "# 3. Visualisation de name_genres\n",
        "print(\"\\nAperçu de name_genres:\")\n",
        "print(name_genres[:10])  # Affiche les 10 premières lignes pour voir la structure\n",
        "\n",
        "# 4. Visualisation de list_index_wanted\n",
        "print(\"\\nAperçu de list_index_wanted:\")\n",
        "print(list_index_wanted[:10])  # Affiche les 10 premières lignes pour voir la structure\n",
        "\n",
        "\n",
        "# Vérification des dimensions de la matrice\n",
        "nb_users = ratings_train.shape[0]\n",
        "nb_movies = ratings_train.shape[1]\n",
        "\n",
        "print(\"Il y a %d utilisateurs uniques et %d films uniques; \"\n",
        "      \"la matrice est donc de taille %d par %d.\" % (nb_users, nb_movies, nb_users, nb_movies))\n",
        "\n",
        "ratings_train_filled = np.nan_to_num(ratings_train, nan=0)\n",
        "\n",
        "# Transposition de la matrice pour obtenir utilisateurs en lignes et produits en colonnes\n",
        "data_matrix = ratings_train_filled\n",
        "\n",
        "print(\"Aperçu de data_matrix (sans NaN):\\n\", data_matrix)\n",
        "\n",
        "print(\"Dimensions :\", data_matrix.shape)\n",
        "\n"
      ]
    },
    {
      "cell_type": "markdown",
      "source": [
        "# **Implémention des modèles**"
      ],
      "metadata": {
        "id": "TGXJuhVxRAvo"
      }
    },
    {
      "cell_type": "markdown",
      "source": [
        "# KNN"
      ],
      "metadata": {
        "id": "pKfBemlNHzW_"
      }
    },
    {
      "cell_type": "code",
      "source": [
        "\n",
        "# 1. Convertir la matrice de données en un DataFrame Surprise\n",
        "# Supposons que data_matrix soit une matrice où les lignes sont les utilisateurs et les colonnes les films\n",
        "\n",
        "# Créer un DataFrame avec des colonnes userID, movieID, rating\n",
        "# On suppose que data_matrix contient les évaluations avec les indices utilisateur et film\n",
        "user_ids, movie_ids = np.where(data_matrix != 0)  # Trouver les indices des évaluations non nulles\n",
        "ratings = data_matrix[user_ids, movie_ids]  # Obtenir les évaluations\n",
        "\n",
        "# Créer un DataFrame pandas pour ces données\n",
        "ratings_df = pd.DataFrame({\n",
        "    'userID': user_ids,\n",
        "    'movieID': movie_ids,\n",
        "    'rating': ratings\n",
        "})\n",
        "\n",
        "# 2. Créer un Reader et charger le dataset\n",
        "reader = Reader(rating_scale=(1, 5))  # Si vos notes vont de 1 à 5\n",
        "data = Dataset.load_from_df(ratings_df[['userID', 'movieID', 'rating']], reader)\n",
        "\n",
        "# 3. Appliquer l'algorithme KNN avec distance cosinus\n",
        "knn = KNNBasic(sim_options={'name': 'cosine', 'user_based': True})\n",
        "\n",
        "# 4. Évaluer la performance du modèle via une validation croisée (3-fold cross-validation)\n",
        "results = cross_validate(knn, data, measures=['RMSE', 'MAE'], cv=3)\n",
        "\n",
        "# Afficher les résultats\n",
        "print(f\"RMSE moyen : {np.mean(results['test_rmse'])}\")\n",
        "print(f\"MAE moyen : {np.mean(results['test_mae'])}\")\n"
      ],
      "metadata": {
        "colab": {
          "base_uri": "https://localhost:8080/"
        },
        "id": "WdMSZzAPH21_",
        "outputId": "d9a1cabe-fd4d-4b25-93b6-f8d08cd41e72"
      },
      "execution_count": 127,
      "outputs": [
        {
          "output_type": "stream",
          "name": "stdout",
          "text": [
            "Computing the cosine similarity matrix...\n",
            "Done computing similarity matrix.\n",
            "Computing the cosine similarity matrix...\n",
            "Done computing similarity matrix.\n",
            "Computing the cosine similarity matrix...\n",
            "Done computing similarity matrix.\n",
            "RMSE moyen : 1.0293522975613894\n",
            "MAE moyen : 0.7944364073156484\n"
          ]
        }
      ]
    },
    {
      "cell_type": "code",
      "source": [
        "# 4. Obtenir les prédictions pour les indices dans list_index_wanted\n",
        "predictions_wanted = []\n",
        "\n",
        "for idx in list_index_wanted:\n",
        "    user_idx, movie_idx = idx  # Extraire les indices utilisateur et film\n",
        "    # Prédire la note pour l'utilisateur et le film spécifiés\n",
        "    pred = knn.predict(user_idx, movie_idx).est  # `.est` donne la prédiction estimée\n",
        "\n",
        "    # Arrondir la prédiction pour obtenir un entier\n",
        "    pred_rounded = round(pred)  # Arrondi de la prédiction pour obtenir un entier\n",
        "\n",
        "    predictions_wanted.append([user_idx, movie_idx, pred_rounded])  # Ajouter dans la liste sous forme de tuple\n",
        "\n",
        "# 5. Convertir la liste en DataFrame pour avoir un tableau clair\n",
        "df_predictions = pd.DataFrame(predictions_wanted, columns=[\"userID\", \"movieID\", \"prediction(rating)\"])\n",
        "\n",
        "# 6. Afficher les résultats\n",
        "print(\"\\nLes prédictions pour les indices dans list_index_wanted :\")\n",
        "print(df_predictions)"
      ],
      "metadata": {
        "colab": {
          "base_uri": "https://localhost:8080/"
        },
        "id": "0cMnBLXWPTpM",
        "outputId": "f37e9d01-84f1-4140-f134-4c89d780dd6c"
      },
      "execution_count": 128,
      "outputs": [
        {
          "output_type": "stream",
          "name": "stdout",
          "text": [
            "\n",
            "Les prédictions pour les indices dans list_index_wanted :\n",
            "       userID  movieID  prediction(rating)\n",
            "0           0       42                   4\n",
            "1           0      237                   4\n",
            "2           0      250                   4\n",
            "3           0      261                   3\n",
            "4           0      265                   3\n",
            "...       ...      ...                 ...\n",
            "31593     609     4903                   4\n",
            "31594     609     4912                   4\n",
            "31595     609     4921                   4\n",
            "31596     609     4935                   5\n",
            "31597     609     4936                   4\n",
            "\n",
            "[31598 rows x 3 columns]\n"
          ]
        }
      ]
    },
    {
      "cell_type": "markdown",
      "source": [
        "# GMM"
      ],
      "metadata": {
        "id": "obSAD4ujR0Fz"
      }
    },
    {
      "cell_type": "code",
      "source": [
        "from sklearn.mixture import GaussianMixture\n",
        "from scipy.special import logsumexp\n",
        "import itertools\n",
        "\n",
        "\n",
        "\n",
        "# Création et entraînement du modèle GMM\n",
        "gmm_model = GaussianMixture(n_components=2, covariance_type='full', tol=0.001,\n",
        "                            reg_covar=1e-06, max_iter=100, n_init=1, init_params='kmeans',\n",
        "                            random_state=42)\n",
        "gmm_model.fit(data_matrix)\n",
        "\n",
        "print(\"Shape of means:\", gmm_model.means_.shape)              # Moyennes pour chaque produit dans chaque composant\n",
        "print(\"Shape of covariances:\", gmm_model.covariances_.shape)  # Matrices de covariance pour chaque produit dans chaque composant\n",
        "print(\"Shape of weights:\", gmm_model.weights_.shape)          # Poids des composants\n",
        "\n"
      ],
      "metadata": {
        "colab": {
          "base_uri": "https://localhost:8080/"
        },
        "id": "jJ-JG5RnVc__",
        "outputId": "fcbda1de-3066-4f2e-9cc1-cfd452d98fe6"
      },
      "execution_count": 129,
      "outputs": [
        {
          "output_type": "stream",
          "name": "stdout",
          "text": [
            "Shape of means: (2, 4980)\n",
            "Shape of covariances: (2, 4980, 4980)\n",
            "Shape of weights: (2,)\n"
          ]
        }
      ]
    },
    {
      "cell_type": "code",
      "source": [
        "#Fill Missing Values i.e Recommend\n",
        "inver0 = np.linalg.inv(gmm_model.covariances_[0])\n",
        "inver1 = np.linalg.inv(gmm_model.covariances_[1])\n",
        "deter0 = np.linalg.det(gmm_model.covariances_[0])\n",
        "deter1 = np.linalg.det(gmm_model.covariances_[1])\n",
        "\n",
        "n = data_matrix.shape[0]\n",
        "d = data_matrix.shape[1]\n",
        "K = gmm_model.means_.shape[0]\n",
        "mean = gmm_model.means_\n",
        "variance = gmm_model.covariances_\n",
        "weight = np.log(gmm_model.weights_)\n",
        "calc = np.zeros((n, K))\n",
        "ind = np.zeros((n, d))\n",
        "soft = calc\n",
        "add = np.zeros((n,))\n",
        "dim = np.zeros((n,))\n",
        "X_pred = ind\n",
        "\n",
        "ind = np.where(data_matrix != 0, 1, 0)\n",
        "dim = np.sum(ind, axis=1)\n",
        "\n",
        "for i in range(n):\n",
        "    for j in range(K):\n",
        "        res = data_matrix[i] - mean[j]\n",
        "        res = np.multiply(res, ind[i])\n",
        "        #Multivariate Gaussian\n",
        "        if j == 0:\n",
        "            A = (res.T @ inver0) @ res\n",
        "            C = (dim[i]/2)*np.log(2*np.pi) + np.log(deter0 + 1e-16)/2\n",
        "        else:\n",
        "            A = (res.T @ inver1) @ res\n",
        "            C = (dim[i]/2)*np.log(2*np.pi) + np.log(deter1 + 1e-16)/2\n",
        "        B = 2\n",
        "        calc[i, j] = weight[j] + (-A/B) - C\n",
        "\n",
        "add = logsumexp(calc, axis = 1)\n",
        "\n",
        "#Since the entire computation is done in log-domain to avoid Numerical instability\n",
        "#we need to bring it back in its original domain\n",
        "soft = np.exp(np.subtract(np.transpose(calc), add))\n",
        "\n",
        "lg = np.sum(add)\n",
        "\n",
        "X_calc = np.transpose(soft) @ gmm_model.means_\n",
        "\n",
        "#We will use predicted value if the entry is 0 in original rating matrix\n",
        "data_matrix_pred_GMM = np.where(data_matrix == 0, X_calc, data_matrix)\n",
        "\n",
        "for i in range(data_matrix_pred_GMM.shape[0]):\n",
        "    for j in range(data_matrix_pred_GMM.shape[1]):\n",
        "        data_matrix_pred_GMM[i, j] = round(data_matrix_pred_GMM[i, j])\n",
        "\n",
        "#For measuring the performance we have to use the predicted matrix\n",
        "for i in range(X_calc.shape[0]):\n",
        "    for j in range(X_calc.shape[1]):\n",
        "        X_pred[i, j] = round(X_calc[i, j])"
      ],
      "metadata": {
        "id": "nepTJnpyYBph"
      },
      "execution_count": 79,
      "outputs": []
    },
    {
      "cell_type": "code",
      "source": [
        "print(\"Original Rating Matrix: \\n\", data_matrix)"
      ],
      "metadata": {
        "colab": {
          "base_uri": "https://localhost:8080/"
        },
        "id": "f8BnFG2VZa6V",
        "outputId": "470d7d83-13aa-4240-e57e-57980a50536e"
      },
      "execution_count": 80,
      "outputs": [
        {
          "output_type": "stream",
          "name": "stdout",
          "text": [
            "Original Rating Matrix: \n",
            " [[4. 0. 0. ... 0. 0. 0.]\n",
            " [0. 0. 0. ... 0. 0. 0.]\n",
            " [0. 0. 0. ... 0. 0. 0.]\n",
            " ...\n",
            " [0. 2. 0. ... 0. 0. 0.]\n",
            " [3. 0. 0. ... 0. 0. 0.]\n",
            " [0. 0. 0. ... 0. 0. 0.]]\n"
          ]
        }
      ]
    },
    {
      "cell_type": "code",
      "source": [
        "\n",
        "\n",
        "print(\"Rating Matrix After Applying GMM: \\n\", data_matrix_pred_GMM)\n",
        "\n"
      ],
      "metadata": {
        "colab": {
          "base_uri": "https://localhost:8080/"
        },
        "id": "KEfijN02Zekd",
        "outputId": "33b55a55-c3df-48bc-f50f-4a68372bc7aa"
      },
      "execution_count": 81,
      "outputs": [
        {
          "output_type": "stream",
          "name": "stdout",
          "text": [
            "Rating Matrix After Applying GMM: \n",
            " [[4. 0. 0. ... 0. 0. 0.]\n",
            " [0. 0. 0. ... 0. 0. 0.]\n",
            " [0. 0. 0. ... 0. 0. 0.]\n",
            " ...\n",
            " [0. 2. 0. ... 0. 0. 0.]\n",
            " [3. 0. 0. ... 0. 0. 0.]\n",
            " [0. 0. 0. ... 0. 0. 0.]]\n"
          ]
        }
      ]
    },
    {
      "cell_type": "code",
      "source": [
        "ind_matrix = np.zeros((nb_users, nb_movies))\n",
        "ind_matrix = np.where(data_matrix != 0, 1, 0)\n",
        "\n",
        "x = np.multiply(X_pred, ind_matrix)\n",
        "RMSE_GMM = np.sqrt(np.mean((x - data_matrix)**2))\n",
        "print(\"RMSE of GMM Model is %f.\" %RMSE_GMM)"
      ],
      "metadata": {
        "colab": {
          "base_uri": "https://localhost:8080/"
        },
        "id": "7D0SBqdGcLNf",
        "outputId": "51c4339a-cd18-4c4b-a559-4b8896411f93"
      },
      "execution_count": 82,
      "outputs": [
        {
          "output_type": "stream",
          "name": "stdout",
          "text": [
            "RMSE of GMM Model is 0.369820.\n"
          ]
        }
      ]
    },
    {
      "cell_type": "code",
      "source": [
        "import pandas as pd\n",
        "\n",
        "# 1. Extraire les 100 premières prédictions pour les indices dans list_index_wanted\n",
        "predictions_wanted = []\n",
        "\n",
        "# Limiter aux 100 premières entrées dans list_index_wanted\n",
        "for idx in list_index_wanted[:60]:\n",
        "    user_idx, movie_idx = idx  # Extraire les indices utilisateur et film\n",
        "    pred = X_pred[user_idx, movie_idx]  # Obtenir la prédiction correspondante\n",
        "    predictions_wanted.append([user_idx, movie_idx, pred])  # Ajouter dans la liste sous forme de tuple\n",
        "\n",
        "# 2. Convertir la liste en DataFrame pour avoir un tableau clair\n",
        "df_predictions = pd.DataFrame(predictions_wanted, columns=[\"userID\", \"movieID\", \"prediction(rating)\"])\n",
        "\n",
        "# 3. Afficher les résultats\n",
        "print(\"\\nLes 20 premières prédictions sous forme de tableau :\")\n",
        "print(df_predictions)\n"
      ],
      "metadata": {
        "colab": {
          "base_uri": "https://localhost:8080/"
        },
        "id": "FLvFmv_gqjJT",
        "outputId": "790c6998-5dc6-495e-e171-74dc643797d1"
      },
      "execution_count": 83,
      "outputs": [
        {
          "output_type": "stream",
          "name": "stdout",
          "text": [
            "\n",
            "Les 20 premières prédictions sous forme de tableau :\n",
            "    userID  movieID  prediction(rating)\n",
            "0        0       42                 0.0\n",
            "1        0      237                 0.0\n",
            "2        0      250                 0.0\n",
            "3        0      261                 0.0\n",
            "4        0      265                 0.0\n",
            "5        0      352                 0.0\n",
            "6        0      372                 1.0\n",
            "7        0      387                 0.0\n",
            "8        0      393                 0.0\n",
            "9        0      421                 0.0\n",
            "10       0      475                 0.0\n",
            "11       0      502                 0.0\n",
            "12       0      555                 0.0\n",
            "13       0      572                 0.0\n",
            "14       0      585                 0.0\n",
            "15       0      619                 0.0\n",
            "16       0      620                 0.0\n",
            "17       0      624                 0.0\n",
            "18       0      625                 0.0\n",
            "19       0      626                 0.0\n",
            "20       0      633                 0.0\n",
            "21       0      637                 0.0\n",
            "22       0      643                 0.0\n",
            "23       0      659                 0.0\n",
            "24       0      661                 0.0\n",
            "25       0      710                 0.0\n",
            "26       0      726                 0.0\n",
            "27       0      727                 0.0\n",
            "28       0      732                 0.0\n",
            "29       0      737                 0.0\n",
            "30       0      751                 0.0\n",
            "31       0      767                 0.0\n",
            "32       0      776                 0.0\n",
            "33       0      786                 0.0\n",
            "34       0      789                 0.0\n",
            "35       0      808                 0.0\n",
            "36       0      875                 0.0\n",
            "37       0      972                 0.0\n",
            "38       0      974                 0.0\n",
            "39       0     1043                 0.0\n",
            "40       0     1053                 0.0\n",
            "41       0     1054                 0.0\n",
            "42       0     1103                 0.0\n",
            "43       0     1167                 0.0\n",
            "44       0     1204                 0.0\n",
            "45       0     1206                 0.0\n",
            "46       0     1232                 0.0\n",
            "47       0     1233                 0.0\n",
            "48       0     1235                 0.0\n",
            "49       0     1271                 0.0\n",
            "50       0     1306                 0.0\n",
            "51       0     1329                 0.0\n",
            "52       0     1339                 0.0\n",
            "53       0     1415                 0.0\n",
            "54       0     1430                 0.0\n",
            "55       0     1446                 0.0\n",
            "56       0     1460                 0.0\n",
            "57       0     1521                 0.0\n",
            "58       0     1537                 1.0\n",
            "59       0     1542                 0.0\n"
          ]
        }
      ]
    },
    {
      "cell_type": "markdown",
      "source": [
        "# ALS"
      ],
      "metadata": {
        "id": "5mIEHoM9qNIS"
      }
    },
    {
      "cell_type": "code",
      "source": [
        "# Understanding Non-Negative Matrix Factorization(NMF)\n",
        "from sklearn.decomposition import NMF\n",
        "import scipy.sparse as sparse\n",
        "from scipy.sparse.linalg import spsolve\n",
        "from numpy.linalg import solve\n",
        "\n",
        "X = np.array([[1, 2, 3], [5, 10, 15]])\n",
        "print(\"X is:\\n\", X)\n",
        "model = NMF(n_components=2, init='random', random_state=42)\n",
        "W = model.fit_transform(X)\n",
        "H = model.components_\n",
        "print(\"W is:\\n\", W)\n",
        "print(\"H is:\\n\", H)\n",
        "print(\"The Result of Matrix Multiplication of W and H is Same as X:\\n\", np.matmul(W, H))"
      ],
      "metadata": {
        "colab": {
          "base_uri": "https://localhost:8080/"
        },
        "id": "wbslEYX2fUE_",
        "outputId": "c58ce92b-c04e-4a87-f538-689747f4dbb5"
      },
      "execution_count": 84,
      "outputs": [
        {
          "output_type": "stream",
          "name": "stdout",
          "text": [
            "X is:\n",
            " [[ 1  2  3]\n",
            " [ 5 10 15]]\n",
            "W is:\n",
            " [[4.64104680e-01 4.60521425e-01]\n",
            " [1.00947951e+01 2.77553851e-05]]\n",
            "H is:\n",
            " [[0.49530014 0.99060032 1.48590048]\n",
            " [1.67229763 3.34459522 5.01689283]]\n",
            "The Result of Matrix Multiplication of W and H is Same as X:\n",
            " [[ 1.          2.          3.        ]\n",
            " [ 4.99999978 10.00000002 15.00000006]]\n"
          ]
        }
      ]
    },
    {
      "cell_type": "code",
      "source": [
        "model = NMF(n_components=2, init='random', random_state=42)\n",
        "user_vec = model.fit_transform(data_matrix)\n",
        "item_vec = model.components_.T\n",
        "\n",
        "def implicit_ALS(ratings, user_vec, item_vec, lambda_val, iteration, typ):\n",
        "\n",
        "    ctr = 1\n",
        "\n",
        "    if typ == 'user':\n",
        "        while ctr <= iteration:\n",
        "            YTY = item_vec.T.dot(item_vec)\n",
        "            lambdaI = np.eye(YTY.shape[0]) * lambda_val\n",
        "\n",
        "            for u in range(user_vec.shape[0]):\n",
        "                user_vec[u, :] = solve((YTY + lambdaI),\n",
        "                                        ratings[u, :].dot(item_vec))\n",
        "            ctr += 1\n",
        "\n",
        "        return user_vec\n",
        "\n",
        "    if typ == 'item':\n",
        "        while ctr <= iteration:\n",
        "            XTX = user_vec.T.dot(user_vec)\n",
        "            lambdaI = np.eye(XTX.shape[0]) * lambda_val\n",
        "\n",
        "            for i in range(item_vec.shape[0]):\n",
        "                item_vec[i, :] = solve((XTX + lambdaI),\n",
        "                                        ratings[:, i].T.dot(user_vec))\n",
        "            ctr += 1\n",
        "        return item_vec\n",
        "\n",
        "\n",
        "user_vec = implicit_ALS(data_matrix, user_vec, item_vec, lambda_val=0.2,\n",
        "                        iteration=20, typ='user')\n",
        "item_vec = implicit_ALS(data_matrix, user_vec, item_vec, lambda_val=0.2,\n",
        "                        iteration=20, typ='item')\n",
        "\n",
        "def predict_all():\n",
        "        \"\"\" Predict ratings for every user and item. \"\"\"\n",
        "        predictions = np.zeros((user_vec.shape[0],\n",
        "                                item_vec.shape[0]))\n",
        "        for u in range(user_vec.shape[0]):\n",
        "            for i in range(item_vec.shape[0]):\n",
        "                predictions[u, i] = predict(u, i)\n",
        "\n",
        "        return predictions\n",
        "def predict(u, i):\n",
        "    \"\"\" Single user and item prediction. \"\"\"\n",
        "    return user_vec[u, :].dot(item_vec[i, :].T)\n",
        "\n",
        "predict = predict_all()\n",
        "\n",
        "\n",
        "data_matrix_pred_ALS = np.where(data_matrix == 0, predict, data_matrix)\n",
        "\n",
        "for i in range(data_matrix_pred_ALS.shape[0]):\n",
        "    for j in range(data_matrix_pred_ALS.shape[1]):\n",
        "        data_matrix_pred_ALS[i, j] = round(data_matrix_pred_ALS[i, j])\n",
        "\n",
        "#For measuring the performance we have to use the predicted matrix\n",
        "X_pred = np.zeros((nb_users, nb_movies))\n",
        "for i in range(predict.shape[0]):\n",
        "    for j in range(predict.shape[1]):\n",
        "        X_pred[i, j] = round(predict[i, j])"
      ],
      "metadata": {
        "id": "KngR11ZxxSY8"
      },
      "execution_count": 85,
      "outputs": []
    },
    {
      "cell_type": "code",
      "source": [
        "print(\"Original Rating Matrix: \\n\", data_matrix)"
      ],
      "metadata": {
        "colab": {
          "base_uri": "https://localhost:8080/"
        },
        "id": "McWWLjK7xf1h",
        "outputId": "ce67acfe-466a-4d9a-e7ac-1e1a5cba2301"
      },
      "execution_count": 86,
      "outputs": [
        {
          "output_type": "stream",
          "name": "stdout",
          "text": [
            "Original Rating Matrix: \n",
            " [[4. 0. 0. ... 0. 0. 0.]\n",
            " [0. 0. 0. ... 0. 0. 0.]\n",
            " [0. 0. 0. ... 0. 0. 0.]\n",
            " ...\n",
            " [0. 2. 0. ... 0. 0. 0.]\n",
            " [3. 0. 0. ... 0. 0. 0.]\n",
            " [0. 0. 0. ... 0. 0. 0.]]\n"
          ]
        }
      ]
    },
    {
      "cell_type": "code",
      "source": [
        "print(\"Rating Matrix After Applying ALS: \\n\", data_matrix_pred_ALS)"
      ],
      "metadata": {
        "colab": {
          "base_uri": "https://localhost:8080/"
        },
        "id": "xiwwjUaAxhWp",
        "outputId": "95a63925-9167-474b-c456-606d18d5c128"
      },
      "execution_count": 87,
      "outputs": [
        {
          "output_type": "stream",
          "name": "stdout",
          "text": [
            "Rating Matrix After Applying ALS: \n",
            " [[4. 0. 0. ... 0. 0. 0.]\n",
            " [0. 0. 0. ... 0. 0. 0.]\n",
            " [0. 0. 0. ... 0. 0. 0.]\n",
            " ...\n",
            " [1. 2. 0. ... 0. 0. 0.]\n",
            " [3. 0. 0. ... 0. 0. 0.]\n",
            " [2. 1. 0. ... 0. 0. 0.]]\n"
          ]
        }
      ]
    },
    {
      "cell_type": "code",
      "source": [
        "ind_matrix = np.zeros((nb_users, nb_movies))\n",
        "ind_matrix = np.where(data_matrix != 0, 1, 0)\n",
        "\n",
        "x = np.multiply(X_pred, ind_matrix)\n",
        "RMSE_ALS = np.sqrt(np.mean((x - data_matrix)**2))\n",
        "print(\"RMSE of ALS Model is %f.\" %RMSE_ALS)"
      ],
      "metadata": {
        "colab": {
          "base_uri": "https://localhost:8080/"
        },
        "id": "qebGVF1lxnuB",
        "outputId": "e3056de6-740c-4e45-d4d7-c444f45b7029"
      },
      "execution_count": 88,
      "outputs": [
        {
          "output_type": "stream",
          "name": "stdout",
          "text": [
            "RMSE of ALS Model is 0.354128.\n"
          ]
        }
      ]
    },
    {
      "cell_type": "markdown",
      "source": [
        "# Auto Encoder"
      ],
      "metadata": {
        "id": "T77iiMbIx2k1"
      }
    },
    {
      "cell_type": "code",
      "source": [
        "\n",
        "\n",
        "import torch\n",
        "import torch.nn as nn\n",
        "import torch.nn.parallel\n",
        "import torch.optim as optim\n",
        "import torch.utils.data\n",
        "from torch.autograd import Variable\n",
        "\n",
        "data_matrix_torch = torch.FloatTensor(data_matrix)\n",
        "\n",
        "\n",
        "class SAE(nn.Module):\n",
        "    def __init__(self, ):\n",
        "        super(SAE, self).__init__()\n",
        "        self.fc1 = nn.Linear(nb_movies, 20)\n",
        "        self.fc2 = nn.Linear(20, 10)\n",
        "        self.fc3 = nn.Linear(10, 20)\n",
        "        self.fc4 = nn.Linear(20, nb_movies)\n",
        "        self.activation = nn.Sigmoid()\n",
        "\n",
        "    def forward(self, x):\n",
        "        x = self.activation(self.fc1(x))\n",
        "        x = self.activation(self.fc2(x))\n",
        "        x = self.activation(self.fc3(x))\n",
        "        x = self.fc4(x)\n",
        "        return x\n",
        "\n",
        "    def prediction(self, x):\n",
        "        pred = self.forward(x)\n",
        "        return pred.detach().numpy()\n",
        "\n",
        "sae = SAE()\n",
        "criterion = nn.MSELoss()\n",
        "optimizer = optim.RMSprop(sae.parameters(), lr=0.01, weight_decay=0.5)"
      ],
      "metadata": {
        "id": "kZAkdNusx5XL"
      },
      "execution_count": 89,
      "outputs": []
    },
    {
      "cell_type": "code",
      "source": [
        "nb_epoch = 200\n",
        "for epoch in range(1, nb_epoch + 1):\n",
        "    train_loss = 0\n",
        "    s = 0\n",
        "    for id_user in range(nb_users):\n",
        "        input = Variable(data_matrix_torch[id_user]).unsqueeze(0)\n",
        "        target = input.clone()\n",
        "        if torch.sum(target.data > 0) > 0:\n",
        "            output = sae(input)\n",
        "            target.require_grad = False\n",
        "            output[target == 0] = 0\n",
        "            loss = criterion(output, target)\n",
        "            mean_corrector = nb_movies/float(torch.sum(target.data > 0) + 1e-10)\n",
        "            loss.backward()\n",
        "            train_loss += np.sqrt(loss.data * mean_corrector)\n",
        "            s +=1\n",
        "            optimizer.step()\n",
        "    print('epoch: ' + str(epoch) + ' loss: ' + str((train_loss/s).item()))\n",
        "\n"
      ],
      "metadata": {
        "colab": {
          "base_uri": "https://localhost:8080/"
        },
        "id": "eG9npHa9yBja",
        "outputId": "fa3bab39-981c-4ca5-b68a-bcfdf75bb803"
      },
      "execution_count": 90,
      "outputs": [
        {
          "output_type": "stream",
          "name": "stdout",
          "text": [
            "epoch: 1 loss: 3.516605854034424\n",
            "epoch: 2 loss: 2.742250442504883\n",
            "epoch: 3 loss: 2.239119529724121\n",
            "epoch: 4 loss: 1.9610097408294678\n",
            "epoch: 5 loss: 1.777817964553833\n",
            "epoch: 6 loss: 1.646766185760498\n",
            "epoch: 7 loss: 1.5478242635726929\n",
            "epoch: 8 loss: 1.4703017473220825\n",
            "epoch: 9 loss: 1.4077606201171875\n",
            "epoch: 10 loss: 1.3561111688613892\n",
            "epoch: 11 loss: 1.3128219842910767\n",
            "epoch: 12 loss: 1.2758415937423706\n",
            "epoch: 13 loss: 1.243988037109375\n",
            "epoch: 14 loss: 1.216254711151123\n",
            "epoch: 15 loss: 1.1916340589523315\n",
            "epoch: 16 loss: 1.170062780380249\n",
            "epoch: 17 loss: 1.1504806280136108\n",
            "epoch: 18 loss: 1.1331661939620972\n",
            "epoch: 19 loss: 1.117234468460083\n",
            "epoch: 20 loss: 1.103052020072937\n",
            "epoch: 21 loss: 1.0898528099060059\n",
            "epoch: 22 loss: 1.078067660331726\n",
            "epoch: 23 loss: 1.066934585571289\n",
            "epoch: 24 loss: 1.056969165802002\n",
            "epoch: 25 loss: 1.047521948814392\n",
            "epoch: 26 loss: 1.0390394926071167\n",
            "epoch: 27 loss: 1.0308575630187988\n",
            "epoch: 28 loss: 1.0236051082611084\n",
            "epoch: 29 loss: 1.016556978225708\n",
            "epoch: 30 loss: 1.0102437734603882\n",
            "epoch: 31 loss: 1.0040342807769775\n",
            "epoch: 32 loss: 0.9985200762748718\n",
            "epoch: 33 loss: 0.9931051135063171\n",
            "epoch: 34 loss: 0.9882803559303284\n",
            "epoch: 35 loss: 0.9834767580032349\n",
            "epoch: 36 loss: 0.9792302250862122\n",
            "epoch: 37 loss: 0.9749084711074829\n",
            "epoch: 38 loss: 0.9712100028991699\n",
            "epoch: 39 loss: 0.9673737287521362\n",
            "epoch: 40 loss: 0.9640184640884399\n",
            "epoch: 41 loss: 0.9606012105941772\n",
            "epoch: 42 loss: 0.9577047228813171\n",
            "epoch: 43 loss: 0.9545700550079346\n",
            "epoch: 44 loss: 0.9519186019897461\n",
            "epoch: 45 loss: 0.9491227865219116\n",
            "epoch: 46 loss: 0.9467994570732117\n",
            "epoch: 47 loss: 0.9442235827445984\n",
            "epoch: 48 loss: 0.9421488046646118\n",
            "epoch: 49 loss: 0.9398587346076965\n",
            "epoch: 50 loss: 0.9379756450653076\n",
            "epoch: 51 loss: 0.9358430504798889\n",
            "epoch: 52 loss: 0.9341660737991333\n",
            "epoch: 53 loss: 0.9322221875190735\n",
            "epoch: 54 loss: 0.9307042956352234\n",
            "epoch: 55 loss: 0.9289068579673767\n",
            "epoch: 56 loss: 0.9275599718093872\n",
            "epoch: 57 loss: 0.9259342551231384\n",
            "epoch: 58 loss: 0.9247008562088013\n",
            "epoch: 59 loss: 0.9231868386268616\n",
            "epoch: 60 loss: 0.9220579862594604\n",
            "epoch: 61 loss: 0.9206916093826294\n",
            "epoch: 62 loss: 0.9197015762329102\n",
            "epoch: 63 loss: 0.9183958768844604\n",
            "epoch: 64 loss: 0.9174724817276001\n",
            "epoch: 65 loss: 0.916309118270874\n",
            "epoch: 66 loss: 0.9154935479164124\n",
            "epoch: 67 loss: 0.9143355488777161\n",
            "epoch: 68 loss: 0.9136251211166382\n",
            "epoch: 69 loss: 0.9126244783401489\n",
            "epoch: 70 loss: 0.91193687915802\n",
            "epoch: 71 loss: 0.910930871963501\n",
            "epoch: 72 loss: 0.910356342792511\n",
            "epoch: 73 loss: 0.909476637840271\n",
            "epoch: 74 loss: 0.908940851688385\n",
            "epoch: 75 loss: 0.9080439209938049\n",
            "epoch: 76 loss: 0.9075418710708618\n",
            "epoch: 77 loss: 0.9067779779434204\n",
            "epoch: 78 loss: 0.9063743948936462\n",
            "epoch: 79 loss: 0.9056259393692017\n",
            "epoch: 80 loss: 0.9051969647407532\n",
            "epoch: 81 loss: 0.9045220017433167\n",
            "epoch: 82 loss: 0.9041731953620911\n",
            "epoch: 83 loss: 0.9035030007362366\n",
            "epoch: 84 loss: 0.9032039642333984\n",
            "epoch: 85 loss: 0.9025638699531555\n",
            "epoch: 86 loss: 0.9023261666297913\n",
            "epoch: 87 loss: 0.9016970992088318\n",
            "epoch: 88 loss: 0.9014826416969299\n",
            "epoch: 89 loss: 0.9009175300598145\n",
            "epoch: 90 loss: 0.9007220268249512\n",
            "epoch: 91 loss: 0.9001338481903076\n",
            "epoch: 92 loss: 0.8999233841896057\n",
            "epoch: 93 loss: 0.8994179368019104\n",
            "epoch: 94 loss: 0.89924556016922\n",
            "epoch: 95 loss: 0.8987615704536438\n",
            "epoch: 96 loss: 0.8986042141914368\n",
            "epoch: 97 loss: 0.8981646299362183\n",
            "epoch: 98 loss: 0.8980711698532104\n",
            "epoch: 99 loss: 0.8975967168807983\n",
            "epoch: 100 loss: 0.8975160717964172\n",
            "epoch: 101 loss: 0.8971062302589417\n",
            "epoch: 102 loss: 0.8970369696617126\n",
            "epoch: 103 loss: 0.8965978622436523\n",
            "epoch: 104 loss: 0.8965525031089783\n",
            "epoch: 105 loss: 0.8961709141731262\n",
            "epoch: 106 loss: 0.8961308002471924\n",
            "epoch: 107 loss: 0.8957451581954956\n",
            "epoch: 108 loss: 0.8957016468048096\n",
            "epoch: 109 loss: 0.8953724503517151\n",
            "epoch: 110 loss: 0.8953556418418884\n",
            "epoch: 111 loss: 0.8949831128120422\n",
            "epoch: 112 loss: 0.8949946165084839\n",
            "epoch: 113 loss: 0.8946816325187683\n",
            "epoch: 114 loss: 0.8946916460990906\n",
            "epoch: 115 loss: 0.8943381309509277\n",
            "epoch: 116 loss: 0.8943719863891602\n",
            "epoch: 117 loss: 0.8940720558166504\n",
            "epoch: 118 loss: 0.8941147327423096\n",
            "epoch: 119 loss: 0.8937886953353882\n",
            "epoch: 120 loss: 0.8938342332839966\n",
            "epoch: 121 loss: 0.8935436606407166\n",
            "epoch: 122 loss: 0.8936118483543396\n",
            "epoch: 123 loss: 0.8933086395263672\n",
            "epoch: 124 loss: 0.893339991569519\n",
            "epoch: 125 loss: 0.8930928111076355\n",
            "epoch: 126 loss: 0.8931810855865479\n",
            "epoch: 127 loss: 0.892855167388916\n",
            "epoch: 128 loss: 0.8929260969161987\n",
            "epoch: 129 loss: 0.8927072882652283\n",
            "epoch: 130 loss: 0.8927952647209167\n",
            "epoch: 131 loss: 0.8924896717071533\n",
            "epoch: 132 loss: 0.8925758004188538\n",
            "epoch: 133 loss: 0.8923627138137817\n",
            "epoch: 134 loss: 0.892468273639679\n",
            "epoch: 135 loss: 0.8921791911125183\n",
            "epoch: 136 loss: 0.8922653198242188\n",
            "epoch: 137 loss: 0.8920698165893555\n",
            "epoch: 138 loss: 0.8921810984611511\n",
            "epoch: 139 loss: 0.8919017314910889\n",
            "epoch: 140 loss: 0.892020583152771\n",
            "epoch: 141 loss: 0.8918192982673645\n",
            "epoch: 142 loss: 0.8919013142585754\n",
            "epoch: 143 loss: 0.8916465044021606\n",
            "epoch: 144 loss: 0.8917824625968933\n",
            "epoch: 145 loss: 0.8915878534317017\n",
            "epoch: 146 loss: 0.8916829228401184\n",
            "epoch: 147 loss: 0.8914246559143066\n",
            "epoch: 148 loss: 0.8915398120880127\n",
            "epoch: 149 loss: 0.8913509249687195\n",
            "epoch: 150 loss: 0.8914880156517029\n",
            "epoch: 151 loss: 0.89125657081604\n",
            "epoch: 152 loss: 0.8914064764976501\n",
            "epoch: 153 loss: 0.8912210464477539\n",
            "epoch: 154 loss: 0.8913429975509644\n",
            "epoch: 155 loss: 0.8911231756210327\n",
            "epoch: 156 loss: 0.8912310600280762\n",
            "epoch: 157 loss: 0.8910424113273621\n",
            "epoch: 158 loss: 0.8912100195884705\n",
            "epoch: 159 loss: 0.890990138053894\n",
            "epoch: 160 loss: 0.8910903930664062\n",
            "epoch: 161 loss: 0.8909109830856323\n",
            "epoch: 162 loss: 0.8910747766494751\n",
            "epoch: 163 loss: 0.8908570408821106\n",
            "epoch: 164 loss: 0.8909837007522583\n",
            "epoch: 165 loss: 0.8908343315124512\n",
            "epoch: 166 loss: 0.8909686207771301\n",
            "epoch: 167 loss: 0.8907526731491089\n",
            "epoch: 168 loss: 0.8908873796463013\n",
            "epoch: 169 loss: 0.8907203674316406\n",
            "epoch: 170 loss: 0.8908807635307312\n",
            "epoch: 171 loss: 0.890648603439331\n",
            "epoch: 172 loss: 0.8907893896102905\n",
            "epoch: 173 loss: 0.890644907951355\n",
            "epoch: 174 loss: 0.8907933831214905\n",
            "epoch: 175 loss: 0.8905792832374573\n",
            "epoch: 176 loss: 0.890716552734375\n",
            "epoch: 177 loss: 0.8905649781227112\n",
            "epoch: 178 loss: 0.8907202482223511\n",
            "epoch: 179 loss: 0.8905038237571716\n",
            "epoch: 180 loss: 0.8906667232513428\n",
            "epoch: 181 loss: 0.8904957175254822\n",
            "epoch: 182 loss: 0.8906581401824951\n",
            "epoch: 183 loss: 0.8904492259025574\n",
            "epoch: 184 loss: 0.8905999064445496\n",
            "epoch: 185 loss: 0.8904367089271545\n",
            "epoch: 186 loss: 0.8906092643737793\n",
            "epoch: 187 loss: 0.8903919458389282\n",
            "epoch: 188 loss: 0.8905445337295532\n",
            "epoch: 189 loss: 0.8904017806053162\n",
            "epoch: 190 loss: 0.8905393481254578\n",
            "epoch: 191 loss: 0.8903372287750244\n",
            "epoch: 192 loss: 0.8905168175697327\n",
            "epoch: 193 loss: 0.890328049659729\n",
            "epoch: 194 loss: 0.8904995322227478\n",
            "epoch: 195 loss: 0.8903152346611023\n",
            "epoch: 196 loss: 0.8904566168785095\n",
            "epoch: 197 loss: 0.8903148174285889\n",
            "epoch: 198 loss: 0.8904803991317749\n",
            "epoch: 199 loss: 0.8902705907821655\n",
            "epoch: 200 loss: 0.8904228806495667\n"
          ]
        }
      ]
    },
    {
      "cell_type": "code",
      "source": [
        "predict_SAE = np.zeros((nb_users, nb_movies))\n",
        "for id_user in range(nb_users):\n",
        "    input = Variable(data_matrix_torch[id_user]).unsqueeze(0)\n",
        "    predict_SAE[id_user] = sae.prediction(input)\n",
        "\n",
        "#We will use predicted value if the entry is 0 in original rating matrix\n",
        "data_matrix_pred_SAE = np.where(data_matrix == 0, predict_SAE, data_matrix)\n",
        "\n",
        "for i in range(data_matrix_pred_SAE.shape[0]):\n",
        "    for j in range(data_matrix_pred_SAE.shape[1]):\n",
        "        data_matrix_pred_SAE[i, j] = round(data_matrix_pred_SAE[i, j])\n",
        "\n",
        "#For measuring the performance we have to use the predicted matrix\n",
        "X_pred = np.zeros((nb_users, nb_movies))\n",
        "for i in range(predict_SAE.shape[0]):\n",
        "    for j in range(predict_SAE.shape[1]):\n",
        "        X_pred[i, j] = round(predict_SAE[i, j])"
      ],
      "metadata": {
        "id": "Ix9VqB3jzRK-"
      },
      "execution_count": 91,
      "outputs": []
    },
    {
      "cell_type": "code",
      "source": [
        "print(\"Original Rating Matrix: \\n\", data_matrix)"
      ],
      "metadata": {
        "colab": {
          "base_uri": "https://localhost:8080/"
        },
        "id": "jDrUVl2EzaSA",
        "outputId": "e41fa68a-852d-4b9d-99e4-f08f1bd9f1ed"
      },
      "execution_count": 92,
      "outputs": [
        {
          "output_type": "stream",
          "name": "stdout",
          "text": [
            "Original Rating Matrix: \n",
            " [[4. 0. 0. ... 0. 0. 0.]\n",
            " [0. 0. 0. ... 0. 0. 0.]\n",
            " [0. 0. 0. ... 0. 0. 0.]\n",
            " ...\n",
            " [0. 2. 0. ... 0. 0. 0.]\n",
            " [3. 0. 0. ... 0. 0. 0.]\n",
            " [0. 0. 0. ... 0. 0. 0.]]\n"
          ]
        }
      ]
    },
    {
      "cell_type": "code",
      "source": [
        "\n",
        "\n",
        "print(\"Rating Matrix after Applying Stacked Auto-Encoder: \\n\", data_matrix_pred_SAE)\n",
        "\n"
      ],
      "metadata": {
        "colab": {
          "base_uri": "https://localhost:8080/"
        },
        "id": "RjCU_ZPPzcir",
        "outputId": "de92b012-8e2e-4d67-c9ac-da56f2fdd61d"
      },
      "execution_count": 93,
      "outputs": [
        {
          "output_type": "stream",
          "name": "stdout",
          "text": [
            "Rating Matrix after Applying Stacked Auto-Encoder: \n",
            " [[4. 3. 3. ... 4. 4. 3.]\n",
            " [4. 3. 3. ... 4. 4. 3.]\n",
            " [4. 3. 3. ... 4. 4. 3.]\n",
            " ...\n",
            " [4. 2. 3. ... 4. 4. 3.]\n",
            " [3. 3. 3. ... 4. 4. 3.]\n",
            " [4. 3. 3. ... 4. 4. 3.]]\n"
          ]
        }
      ]
    },
    {
      "cell_type": "code",
      "source": [
        "\n",
        "\n",
        "ind_matrix = np.zeros((nb_users, nb_movies))\n",
        "ind_matrix = np.where(data_matrix != 0, 1, 0)\n",
        "\n",
        "x = np.multiply(X_pred, ind_matrix)\n",
        "RMSE_SAE = np.sqrt(np.mean((x - data_matrix)**2))\n",
        "print(\"RMSE of SAE Model is %f.\" %RMSE_SAE)\n",
        "\n"
      ],
      "metadata": {
        "colab": {
          "base_uri": "https://localhost:8080/"
        },
        "id": "3XueH1BQzhpH",
        "outputId": "7f1012cb-8a3e-4223-ac42-f3e0dc7320ce"
      },
      "execution_count": 94,
      "outputs": [
        {
          "output_type": "stream",
          "name": "stdout",
          "text": [
            "RMSE of SAE Model is 0.090879.\n"
          ]
        }
      ]
    },
    {
      "cell_type": "code",
      "source": [
        "import pandas as pd\n",
        "\n",
        "predictions_wanted = []\n",
        "\n",
        "for idx in list_index_wanted:\n",
        "    user_idx, movie_idx = idx  # Extraire les indices utilisateur et film\n",
        "    pred = X_pred[user_idx, movie_idx]  # Obtenir la prédiction correspondante\n",
        "    predictions_wanted.append([user_idx, movie_idx, pred])  # Ajouter dans la liste sous forme de tuple\n",
        "\n",
        "# 2. Convertir la liste en DataFrame pour avoir un tableau clair\n",
        "df_predictions = pd.DataFrame(predictions_wanted, columns=[\"userID\", \"movieID\", \"prediction(rating)\"])\n",
        "\n",
        "# 3. Afficher les résultats\n",
        "print(\"\\nLes 100 premières prédictions sous forme de tableau :\")\n",
        "print(df_predictions)\n"
      ],
      "metadata": {
        "colab": {
          "base_uri": "https://localhost:8080/"
        },
        "id": "oMmQ-6ciznfs",
        "outputId": "e146c0ee-70b8-46fb-edad-901d4254375b"
      },
      "execution_count": 95,
      "outputs": [
        {
          "output_type": "stream",
          "name": "stdout",
          "text": [
            "\n",
            "Les 100 premières prédictions sous forme de tableau :\n",
            "       userID  movieID  prediction(rating)\n",
            "0           0       42                 4.0\n",
            "1           0      237                 4.0\n",
            "2           0      250                 4.0\n",
            "3           0      261                 3.0\n",
            "4           0      265                 3.0\n",
            "...       ...      ...                 ...\n",
            "31593     609     4903                 3.0\n",
            "31594     609     4912                 2.0\n",
            "31595     609     4921                 4.0\n",
            "31596     609     4935                 5.0\n",
            "31597     609     4936                 4.0\n",
            "\n",
            "[31598 rows x 3 columns]\n"
          ]
        }
      ]
    },
    {
      "cell_type": "code",
      "source": [
        "import matplotlib.pyplot as plt\n",
        "\n",
        "# 4. Comptabiliser le nombre de fois chaque valeur de rating apparaît\n",
        "rating_counts = df_predictions[\"prediction(rating)\"].value_counts().sort_index()\n",
        "\n",
        "# 5. Afficher un graphique des comptages des ratings\n",
        "plt.figure(figsize=(8, 6))\n",
        "rating_counts.plot(kind=\"bar\", color=\"skyblue\", edgecolor=\"black\")\n",
        "\n",
        "# Ajouter des titres et des labels\n",
        "plt.title(\"Nombre de Prédictions par Rating\", fontsize=14)\n",
        "plt.xlabel(\"Rating\", fontsize=12)\n",
        "plt.ylabel(\"Nombre de Prédictions\", fontsize=12)\n",
        "plt.xticks(rotation=0)  # Garder les labels sur l'axe X à l'horizontale\n",
        "plt.grid(axis='y', linestyle='--', alpha=0.7)\n",
        "\n",
        "# 4. Calculer la moyenne des prédictions\n",
        "mean_prediction = df_predictions[\"prediction(rating)\"].mean()\n",
        "\n",
        "# 5. Afficher la moyenne des prédictions\n",
        "print(f\"\\nLa moyenne des prédictions est : {mean_prediction}\")\n",
        "\n",
        "\n",
        "# Afficher le graphique\n",
        "plt.show()\n",
        "\n",
        "\n"
      ],
      "metadata": {
        "colab": {
          "base_uri": "https://localhost:8080/",
          "height": 606
        },
        "id": "Ih3728hv07PN",
        "outputId": "9604a30f-2885-44a9-e4ed-7e416674853b"
      },
      "execution_count": 96,
      "outputs": [
        {
          "output_type": "stream",
          "name": "stdout",
          "text": [
            "\n",
            "La moyenne des prédictions est : 3.5545287676435215\n"
          ]
        },
        {
          "output_type": "display_data",
          "data": {
            "text/plain": [
              "<Figure size 800x600 with 1 Axes>"
            ],
            "image/png": "[encoded data removed]"
          },
          "metadata": {}
        }
      ]
    }
  ]
}